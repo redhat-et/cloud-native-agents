{
  "cells": [
    {
      "cell_type": "markdown",
      "metadata": {},
      "source": [
        "# MCP Registry Notebook Demo\n",
        "\n",
        "This notebook mirrors the README flow to help you run a full MCP Registry demo end-to-end.\n",
        "\n",
        "### What you’ll accomplish\n",
        "- Publish to a local registry\n",
        "- Publish to the official registry\n",
        "\n",
        "### Who is this for?\n",
        "- You’ve built (or are building) an MCP server and want to list it in a registry so clients can discover and install it.\n",
        "- You prefer a safe, local dry-run before going public.\n"
      ]
    },
    {
      "cell_type": "markdown",
      "metadata": {},
      "source": [
        "### Prerequisites\n",
        "- **Docker** (for running a local registry)\n",
        "- **Homebrew** (macOS/Linux) *or* Go to build from source\n",
        "- **mcp-publisher** CLI"
      ]
    },
    {
      "cell_type": "code",
      "execution_count": 1,
      "metadata": {},
      "outputs": [
        {
          "name": "stdout",
          "output_type": "stream",
          "text": [
            "\u001b[33mWarning:\u001b[0m mcp-publisher 1.0.0 is already installed and up-to-date.\n",
            "To reinstall 1.0.0, run:\n",
            "  brew reinstall mcp-publisher\n"
          ]
        }
      ],
      "source": [
        "# Recommended install (macOS/Linux/WSL)\n",
        "!brew install mcp-publisher"
      ]
    },
    {
      "cell_type": "markdown",
      "metadata": {},
      "source": [
        "### Key concepts\n",
        "- **`server.json`**: The manifest for your MCP server consumed by the registry. It must follow the published schema (see example schema below).\n",
        "- **Packages vs Remotes**:\n",
        "  - **Packages:** clients install and run your server locally (e.g. from npm, using `stdio`). Best for offline/local use.  \n",
        "  - **Remotes:** clients connect to a hosted server you run (`sse` or `streamable-http`). Best when your server needs an always-on endpoint. \n",
        "- **Registry API**: Primary routes are `GET /v0/servers` (list/search) and `GET /v0/servers/{id}` (details).\n",
        "\n",
        "Why this matters: the registry uses your `server.json` to index, show details, and verify install sources; clients rely on this to find and connect to your server."
      ]
    },
    {
      "cell_type": "markdown",
      "metadata": {},
      "source": [
        "## Option A - Local Registry Setup\n",
        "\n",
        "This path runs a **local MCP Registry** and publishes a demo server entry so you can show the flow **without owning a namespace**."
      ]
    },
    {
      "cell_type": "code",
      "execution_count": 2,
      "metadata": {},
      "outputs": [],
      "source": [
        "# We will set REGISTRY once and reuse it.\n",
        "REGISTRY=\"http://localhost:8080\""
      ]
    },
    {
      "cell_type": "markdown",
      "metadata": {},
      "source": [
        "### 1. Start a local registry\n",
        "\n",
        "Starts Docker services as defined in `docker-compose.yml`. The API will be available at `http://localhost:8080/v0` with PostgreSQL and seed data.\n"
      ]
    },
    {
      "cell_type": "code",
      "execution_count": 3,
      "metadata": {},
      "outputs": [
        {
          "name": "stdout",
          "output_type": "stream",
          "text": [
            "\u001b[1A\u001b[1B\u001b[0G\u001b[?25l[+] Running 0/1\n",
            " \u001b[33m⠋\u001b[0m postgres Pulling                                                        \u001b[34m0.1s \u001b[0m\n",
            "\u001b[?25h\u001b[1A\u001b[1A\u001b[0G\u001b[?25l[+] Running 0/1\n",
            " \u001b[33m⠙\u001b[0m postgres Pulling                                                        \u001b[34m0.2s \u001b[0m\n",
            "\u001b[?25h\u001b[1A\u001b[1A\u001b[0G\u001b[?25l[+] Running 0/1\n",
            " \u001b[33m⠹\u001b[0m postgres Pulling                                                        \u001b[34m0.3s \u001b[0m\n",
            "\u001b[?25h\u001b[1A\u001b[1A\u001b[0G\u001b[?25l[+] Running 0/1\n",
            " \u001b[33m⠸\u001b[0m postgres Pulling                                                        \u001b[34m0.4s \u001b[0m\n",
            "\u001b[?25h\u001b[1A\u001b[1A\u001b[0G\u001b[?25l[+] Running 0/1\n",
            " \u001b[33m⠼\u001b[0m postgres Pulling                                                        \u001b[34m0.5s \u001b[0m\n",
            "\u001b[?25h\u001b[1A\u001b[1A\u001b[0G\u001b[?25l[+] Running 0/1\n",
            " \u001b[33m⠴\u001b[0m postgres Pulling                                                        \u001b[34m0.6s \u001b[0m\n",
            "\u001b[?25h\u001b[1A\u001b[1A\u001b[0G\u001b[?25l[+] Running 0/1\n",
            " \u001b[33m⠦\u001b[0m postgres Pulling                                                        \u001b[34m0.7s \u001b[0m\n",
            "\u001b[?25h\u001b[1A\u001b[1A\u001b[0G\u001b[?25l[+] Running 0/1\n",
            " \u001b[33m⠧\u001b[0m postgres Pulling                                                        \u001b[34m0.8s \u001b[0m\n",
            "\u001b[?25h\u001b[1A\u001b[1A\u001b[0G\u001b[?25l[+] Running 0/1\n",
            " \u001b[33m⠇\u001b[0m postgres Pulling                                                        \u001b[34m0.9s \u001b[0m\n",
            "\u001b[?25h\u001b[1A\u001b[1A\u001b[0G\u001b[?25l[+] Running 0/1\n",
            " \u001b[33m⠏\u001b[0m postgres Pulling                                                        \u001b[34m1.0s \u001b[0m\n",
            "\u001b[?25h\u001b[1A\u001b[1A\u001b[0G\u001b[?25l\u001b[34m[+] Running 1/1\u001b[0m\n",
            " \u001b[32m✔\u001b[0m postgres Pulled \u001b[32m\u001b[0m                                                        \u001b[34m1.0s \u001b[0m\n",
            "\u001b[?25h\u001b[1A\u001b[1A\u001b[0G\u001b[?25l\u001b[34m[+] Running 1/1\u001b[0m\n",
            " \u001b[32m✔\u001b[0m postgres Pulled \u001b[32m\u001b[0m                                                        \u001b[34m1.0s \u001b[0m\n",
            "\u001b[?25h\u001b[1A\u001b[1B\u001b[0G\u001b[?25l[+] Running 1/2\n",
            " \u001b[32m✔\u001b[0m Network mcp_registry_default  \u001b[32mCreated\u001b[0m                                   \u001b[34m0.0s \u001b[0m\n",
            " \u001b[33m⠋\u001b[0m Container postgres            Creating                                  \u001b[34m0.0s \u001b[0m\n",
            "\u001b[?25h\u001b[1A\u001b[1A\u001b[1A\u001b[0G\u001b[?25l\u001b[34m[+] Running 2/3\u001b[0m\n",
            " \u001b[32m✔\u001b[0m Network mcp_registry_default  \u001b[32mCreated\u001b[0m                                   \u001b[34m0.0s \u001b[0m\n",
            " \u001b[33m⠙\u001b[0m Container postgres            Starting                                  \u001b[34m0.1s \u001b[0m\n",
            " \u001b[32m✔\u001b[0m Container registry            \u001b[32mCreated\u001b[0m                                   \u001b[34m0.0s \u001b[0m\n",
            "\u001b[?25h\u001b[1A\u001b[1A\u001b[1A\u001b[1A\u001b[0G\u001b[?25l[+] Running 2/3\n",
            " \u001b[32m✔\u001b[0m Network mcp_registry_default  \u001b[32mCreated\u001b[0m                                   \u001b[34m0.0s \u001b[0m\n",
            " \u001b[33m⠹\u001b[0m Container postgres            Starting                                  \u001b[34m0.2s \u001b[0m\n",
            " \u001b[32m✔\u001b[0m Container registry            \u001b[32mCreated\u001b[0m                                   \u001b[34m0.0s \u001b[0m\n",
            "\u001b[?25h\u001b[1A\u001b[1A\u001b[1A\u001b[1A\u001b[0G\u001b[?25l[+] Running 2/3\n",
            " \u001b[32m✔\u001b[0m Network mcp_registry_default  \u001b[32mCreated\u001b[0m                                   \u001b[34m0.0s \u001b[0m\n",
            " \u001b[33m⠸\u001b[0m Container postgres            Waiting                                   \u001b[34m0.3s \u001b[0m\n",
            " \u001b[32m✔\u001b[0m Container registry            \u001b[32mCreated\u001b[0m                                   \u001b[34m0.0s \u001b[0m\n",
            "\u001b[?25h\u001b[1A\u001b[1A\u001b[1A\u001b[1A\u001b[0G\u001b[?25l[+] Running 2/3\n",
            " \u001b[32m✔\u001b[0m Network mcp_registry_default  \u001b[32mCreated\u001b[0m                                   \u001b[34m0.0s \u001b[0m\n",
            " \u001b[33m⠼\u001b[0m Container postgres            Waiting                                   \u001b[34m0.4s \u001b[0m\n",
            " \u001b[32m✔\u001b[0m Container registry            \u001b[32mCreated\u001b[0m                                   \u001b[34m0.0s \u001b[0m\n",
            "\u001b[?25h\u001b[1A\u001b[1A\u001b[1A\u001b[1A\u001b[0G\u001b[?25l[+] Running 2/3\n",
            " \u001b[32m✔\u001b[0m Network mcp_registry_default  \u001b[32mCreated\u001b[0m                                   \u001b[34m0.0s \u001b[0m\n",
            " \u001b[33m⠴\u001b[0m Container postgres            Waiting                                   \u001b[34m0.5s \u001b[0m\n",
            " \u001b[32m✔\u001b[0m Container registry            \u001b[32mCreated\u001b[0m                                   \u001b[34m0.0s \u001b[0m\n",
            "\u001b[?25h\u001b[1A\u001b[1A\u001b[1A\u001b[1A\u001b[0G\u001b[?25l[+] Running 2/3\n",
            " \u001b[32m✔\u001b[0m Network mcp_registry_default  \u001b[32mCreated\u001b[0m                                   \u001b[34m0.0s \u001b[0m\n",
            " \u001b[33m⠦\u001b[0m Container postgres            Waiting                                   \u001b[34m0.6s \u001b[0m\n",
            " \u001b[32m✔\u001b[0m Container registry            \u001b[32mCreated\u001b[0m                                   \u001b[34m0.0s \u001b[0m\n",
            "\u001b[?25h\u001b[1A\u001b[1A\u001b[1A\u001b[1A\u001b[0G\u001b[?25l[+] Running 2/3\n",
            " \u001b[32m✔\u001b[0m Network mcp_registry_default  \u001b[32mCreated\u001b[0m                                   \u001b[34m0.0s \u001b[0m\n",
            " \u001b[33m⠧\u001b[0m Container postgres            Waiting                                   \u001b[34m0.7s \u001b[0m\n",
            " \u001b[32m✔\u001b[0m Container registry            \u001b[32mCreated\u001b[0m                                   \u001b[34m0.0s \u001b[0m\n",
            "\u001b[?25h\u001b[1A\u001b[1A\u001b[1A\u001b[1A\u001b[0G\u001b[?25l[+] Running 2/3\n",
            " \u001b[32m✔\u001b[0m Network mcp_registry_default  \u001b[32mCreated\u001b[0m                                   \u001b[34m0.0s \u001b[0m\n",
            " \u001b[33m⠇\u001b[0m Container postgres            Waiting                                   \u001b[34m0.8s \u001b[0m\n",
            " \u001b[32m✔\u001b[0m Container registry            \u001b[32mCreated\u001b[0m                                   \u001b[34m0.0s \u001b[0m\n",
            "\u001b[?25h\u001b[1A\u001b[1A\u001b[1A\u001b[1A\u001b[0G\u001b[?25l[+] Running 2/3\n",
            " \u001b[32m✔\u001b[0m Network mcp_registry_default  \u001b[32mCreated\u001b[0m                                   \u001b[34m0.0s \u001b[0m\n",
            " \u001b[33m⠏\u001b[0m Container postgres            Waiting                                   \u001b[34m0.9s \u001b[0m\n",
            " \u001b[32m✔\u001b[0m Container registry            \u001b[32mCreated\u001b[0m                                   \u001b[34m0.0s \u001b[0m\n",
            "\u001b[?25h\u001b[1A\u001b[1A\u001b[1A\u001b[1A\u001b[0G\u001b[?25l[+] Running 2/3\n",
            " \u001b[32m✔\u001b[0m Network mcp_registry_default  \u001b[32mCreated\u001b[0m                                   \u001b[34m0.0s \u001b[0m\n",
            " \u001b[33m⠋\u001b[0m Container postgres            Waiting                                   \u001b[34m1.0s \u001b[0m\n",
            " \u001b[32m✔\u001b[0m Container registry            \u001b[32mCreated\u001b[0m                                   \u001b[34m0.0s \u001b[0m\n",
            "\u001b[?25h\u001b[1A\u001b[1A\u001b[1A\u001b[1A\u001b[0G\u001b[?25l[+] Running 2/3\n",
            " \u001b[32m✔\u001b[0m Network mcp_registry_default  \u001b[32mCreated\u001b[0m                                   \u001b[34m0.0s \u001b[0m\n",
            " \u001b[33m⠙\u001b[0m Container postgres            Waiting                                   \u001b[34m1.1s \u001b[0m\n",
            " \u001b[32m✔\u001b[0m Container registry            \u001b[32mCreated\u001b[0m                                   \u001b[34m0.0s \u001b[0m\n",
            "\u001b[?25h\u001b[1A\u001b[1A\u001b[1A\u001b[1A\u001b[0G\u001b[?25l[+] Running 2/3\n",
            " \u001b[32m✔\u001b[0m Network mcp_registry_default  \u001b[32mCreated\u001b[0m                                   \u001b[34m0.0s \u001b[0m\n",
            " \u001b[33m⠹\u001b[0m Container postgres            Waiting                                   \u001b[34m1.2s \u001b[0m\n",
            " \u001b[32m✔\u001b[0m Container registry            \u001b[32mCreated\u001b[0m                                   \u001b[34m0.0s \u001b[0m\n",
            "\u001b[?25h\u001b[1A\u001b[1A\u001b[1A\u001b[1A\u001b[0G\u001b[?25l[+] Running 2/3\n",
            " \u001b[32m✔\u001b[0m Network mcp_registry_default  \u001b[32mCreated\u001b[0m                                   \u001b[34m0.0s \u001b[0m\n",
            " \u001b[33m⠸\u001b[0m Container postgres            Waiting                                   \u001b[34m1.3s \u001b[0m\n",
            " \u001b[32m✔\u001b[0m Container registry            \u001b[32mCreated\u001b[0m                                   \u001b[34m0.0s \u001b[0m\n",
            "\u001b[?25h\u001b[1A\u001b[1A\u001b[1A\u001b[1A\u001b[0G\u001b[?25l[+] Running 2/3\n",
            " \u001b[32m✔\u001b[0m Network mcp_registry_default  \u001b[32mCreated\u001b[0m                                   \u001b[34m0.0s \u001b[0m\n",
            " \u001b[33m⠼\u001b[0m Container postgres            Waiting                                   \u001b[34m1.4s \u001b[0m\n",
            " \u001b[32m✔\u001b[0m Container registry            \u001b[32mCreated\u001b[0m                                   \u001b[34m0.0s \u001b[0m\n",
            "\u001b[?25h\u001b[1A\u001b[1A\u001b[1A\u001b[1A\u001b[0G\u001b[?25l[+] Running 2/3\n",
            " \u001b[32m✔\u001b[0m Network mcp_registry_default  \u001b[32mCreated\u001b[0m                                   \u001b[34m0.0s \u001b[0m\n",
            " \u001b[33m⠴\u001b[0m Container postgres            Waiting                                   \u001b[34m1.5s \u001b[0m\n",
            " \u001b[32m✔\u001b[0m Container registry            \u001b[32mCreated\u001b[0m                                   \u001b[34m0.0s \u001b[0m\n",
            "\u001b[?25h\u001b[1A\u001b[1A\u001b[1A\u001b[1A\u001b[0G\u001b[?25l[+] Running 2/3\n",
            " \u001b[32m✔\u001b[0m Network mcp_registry_default  \u001b[32mCreated\u001b[0m                                   \u001b[34m0.0s \u001b[0m\n",
            " \u001b[33m⠦\u001b[0m Container postgres            Waiting                                   \u001b[34m1.6s \u001b[0m\n",
            " \u001b[32m✔\u001b[0m Container registry            \u001b[32mCreated\u001b[0m                                   \u001b[34m0.0s \u001b[0m\n",
            "\u001b[?25h\u001b[1A\u001b[1A\u001b[1A\u001b[1A\u001b[0G\u001b[?25l[+] Running 2/3\n",
            " \u001b[32m✔\u001b[0m Network mcp_registry_default  \u001b[32mCreated\u001b[0m                                   \u001b[34m0.0s \u001b[0m\n",
            " \u001b[33m⠧\u001b[0m Container postgres            Waiting                                   \u001b[34m1.7s \u001b[0m\n",
            " \u001b[32m✔\u001b[0m Container registry            \u001b[32mCreated\u001b[0m                                   \u001b[34m0.0s \u001b[0m\n",
            "\u001b[?25h\u001b[1A\u001b[1A\u001b[1A\u001b[1A\u001b[0G\u001b[?25l[+] Running 2/3\n",
            " \u001b[32m✔\u001b[0m Network mcp_registry_default  \u001b[32mCreated\u001b[0m                                   \u001b[34m0.0s \u001b[0m\n",
            " \u001b[33m⠇\u001b[0m Container postgres            Waiting                                   \u001b[34m1.8s \u001b[0m\n",
            " \u001b[32m✔\u001b[0m Container registry            \u001b[32mCreated\u001b[0m                                   \u001b[34m0.0s \u001b[0m\n",
            "\u001b[?25h\u001b[1A\u001b[1A\u001b[1A\u001b[1A\u001b[0G\u001b[?25l[+] Running 2/3\n",
            " \u001b[32m✔\u001b[0m Network mcp_registry_default  \u001b[32mCreated\u001b[0m                                   \u001b[34m0.0s \u001b[0m\n",
            " \u001b[33m⠏\u001b[0m Container postgres            Waiting                                   \u001b[34m1.9s \u001b[0m\n",
            " \u001b[32m✔\u001b[0m Container registry            \u001b[32mCreated\u001b[0m                                   \u001b[34m0.0s \u001b[0m\n",
            "\u001b[?25h\u001b[1A\u001b[1A\u001b[1A\u001b[1A\u001b[0G\u001b[?25l[+] Running 2/3\n",
            " \u001b[32m✔\u001b[0m Network mcp_registry_default  \u001b[32mCreated\u001b[0m                                   \u001b[34m0.0s \u001b[0m\n",
            " \u001b[33m⠋\u001b[0m Container postgres            Waiting                                   \u001b[34m2.0s \u001b[0m\n",
            " \u001b[32m✔\u001b[0m Container registry            \u001b[32mCreated\u001b[0m                                   \u001b[34m0.0s \u001b[0m\n",
            "\u001b[?25h\u001b[1A\u001b[1A\u001b[1A\u001b[1A\u001b[0G\u001b[?25l[+] Running 2/3\n",
            " \u001b[32m✔\u001b[0m Network mcp_registry_default  \u001b[32mCreated\u001b[0m                                   \u001b[34m0.0s \u001b[0m\n",
            " \u001b[33m⠙\u001b[0m Container postgres            Waiting                                   \u001b[34m2.1s \u001b[0m\n",
            " \u001b[32m✔\u001b[0m Container registry            \u001b[32mCreated\u001b[0m                                   \u001b[34m0.0s \u001b[0m\n",
            "\u001b[?25h\u001b[1A\u001b[1A\u001b[1A\u001b[1A\u001b[0G\u001b[?25l[+] Running 2/3\n",
            " \u001b[32m✔\u001b[0m Network mcp_registry_default  \u001b[32mCreated\u001b[0m                                   \u001b[34m0.0s \u001b[0m\n",
            " \u001b[33m⠹\u001b[0m Container postgres            Waiting                                   \u001b[34m2.2s \u001b[0m\n",
            " \u001b[32m✔\u001b[0m Container registry            \u001b[32mCreated\u001b[0m                                   \u001b[34m0.0s \u001b[0m\n",
            "\u001b[?25h\u001b[1A\u001b[1A\u001b[1A\u001b[1A\u001b[0G\u001b[?25l[+] Running 2/3\n",
            " \u001b[32m✔\u001b[0m Network mcp_registry_default  \u001b[32mCreated\u001b[0m                                   \u001b[34m0.0s \u001b[0m\n",
            " \u001b[33m⠸\u001b[0m Container postgres            Waiting                                   \u001b[34m2.3s \u001b[0m\n",
            " \u001b[32m✔\u001b[0m Container registry            \u001b[32mCreated\u001b[0m                                   \u001b[34m0.0s \u001b[0m\n",
            "\u001b[?25h\u001b[1A\u001b[1A\u001b[1A\u001b[1A\u001b[0G\u001b[?25l[+] Running 2/3\n",
            " \u001b[32m✔\u001b[0m Network mcp_registry_default  \u001b[32mCreated\u001b[0m                                   \u001b[34m0.0s \u001b[0m\n",
            " \u001b[33m⠼\u001b[0m Container postgres            Waiting                                   \u001b[34m2.4s \u001b[0m\n",
            " \u001b[32m✔\u001b[0m Container registry            \u001b[32mCreated\u001b[0m                                   \u001b[34m0.0s \u001b[0m\n",
            "\u001b[?25h\u001b[1A\u001b[1A\u001b[1A\u001b[1A\u001b[0G\u001b[?25l[+] Running 2/3\n",
            " \u001b[32m✔\u001b[0m Network mcp_registry_default  \u001b[32mCreated\u001b[0m                                   \u001b[34m0.0s \u001b[0m\n",
            " \u001b[33m⠴\u001b[0m Container postgres            Waiting                                   \u001b[34m2.5s \u001b[0m\n",
            " \u001b[32m✔\u001b[0m Container registry            \u001b[32mCreated\u001b[0m                                   \u001b[34m0.0s \u001b[0m\n",
            "\u001b[?25h\u001b[1A\u001b[1A\u001b[1A\u001b[1A\u001b[0G\u001b[?25l[+] Running 2/3\n",
            " \u001b[32m✔\u001b[0m Network mcp_registry_default  \u001b[32mCreated\u001b[0m                                   \u001b[34m0.0s \u001b[0m\n",
            " \u001b[33m⠦\u001b[0m Container postgres            Waiting                                   \u001b[34m2.6s \u001b[0m\n",
            " \u001b[32m✔\u001b[0m Container registry            \u001b[32mCreated\u001b[0m                                   \u001b[34m0.0s \u001b[0m\n",
            "\u001b[?25h\u001b[1A\u001b[1A\u001b[1A\u001b[1A\u001b[0G\u001b[?25l[+] Running 2/3\n",
            " \u001b[32m✔\u001b[0m Network mcp_registry_default  \u001b[32mCreated\u001b[0m                                   \u001b[34m0.0s \u001b[0m\n",
            " \u001b[33m⠧\u001b[0m Container postgres            Waiting                                   \u001b[34m2.7s \u001b[0m\n",
            " \u001b[32m✔\u001b[0m Container registry            \u001b[32mCreated\u001b[0m                                   \u001b[34m0.0s \u001b[0m\n",
            "\u001b[?25h\u001b[1A\u001b[1A\u001b[1A\u001b[1A\u001b[0G\u001b[?25l[+] Running 2/3\n",
            " \u001b[32m✔\u001b[0m Network mcp_registry_default  \u001b[32mCreated\u001b[0m                                   \u001b[34m0.0s \u001b[0m\n",
            " \u001b[32m✔\u001b[0m Container postgres            \u001b[32mHealthy\u001b[0m                                   \u001b[34m2.8s \u001b[0m\n",
            " \u001b[33m⠙\u001b[0m Container registry            Starting                                  \u001b[34m2.8s \u001b[0m\n",
            "\u001b[?25h\u001b[1A\u001b[1A\u001b[1A\u001b[1A\u001b[0G\u001b[?25l\u001b[34m[+] Running 3/3\u001b[0m\n",
            " \u001b[32m✔\u001b[0m Network mcp_registry_default  \u001b[32mCreated\u001b[0m                                   \u001b[34m0.0s \u001b[0m\n",
            " \u001b[32m✔\u001b[0m Container postgres            \u001b[32mHealthy\u001b[0m                                   \u001b[34m2.8s \u001b[0m\n",
            " \u001b[32m✔\u001b[0m Container registry            \u001b[32mStarted\u001b[0m                                   \u001b[34m2.8s \u001b[0m\n",
            "\u001b[?25h"
          ]
        }
      ],
      "source": [
        "!docker compose up -d\n"
      ]
    },
    {
      "cell_type": "markdown",
      "metadata": {},
      "source": [
        "### 2. Create and validate your `server.json`\n",
        "\n",
        "If you don't already have a `server.json`, create one now:\n"
      ]
    },
    {
      "cell_type": "code",
      "execution_count": 190,
      "metadata": {},
      "outputs": [
        {
          "name": "stdout",
          "output_type": "stream",
          "text": [
            "Created server.json\n",
            "\n",
            "Edit server.json to update:\n",
            "  • Server name and description\n",
            "  • Package details\n",
            "  • Environment variables\n",
            "\n",
            "Then publish with:\n",
            "  mcp-publisher login github  # or your preferred auth method\n",
            "  mcp-publisher publish\n"
          ]
        }
      ],
      "source": [
        "# Generate a starter file in the current directory\n",
        "!mcp-publisher init"
      ]
    },
    {
      "cell_type": "markdown",
      "metadata": {},
      "source": [
        "Or create it manually in the project root as `server.json` with at least these fields:"
      ]
    },
    {
      "cell_type": "markdown",
      "metadata": {},
      "source": [
        "**Working Example** `server.json`:\n",
        "```json\n",
        "{\n",
        "  \"$schema\": \"https://static.modelcontextprotocol.io/schemas/2025-07-09/server.schema.json\",\n",
        "  \"name\": \"io.github.<YOUR_GITHUB_USERNAME>/<your-server>\",\n",
        "  \"description\": \"Short description of what your MCP server does\",\n",
        "  \"status\": \"active\",\n",
        "  \"version\": \"1.0.0\",\n",
        "  \"repository\": { \"url\": \"https://github.com/<YOUR_GITHUB_USERNAME>/<your-repo>\", \"source\": \"github\" },\n",
        "  \"remotes\": [\n",
        "    { \"type\": \"streamable-http\", \"url\": \"https://<GITHUB_USERNAME>.github.io/mcp\" }\n",
        "  ]\n",
        "}\n",
        "```"
      ]
    },
    {
      "cell_type": "markdown",
      "metadata": {},
      "source": [
        "- Use a namespace you control for `name` (for GitHub, `io.github.<YOUR_GITHUB_USERNAME>/<your-server>`).\n",
        "- If you host a remote endpoint, set `remotes[].type` to `streamable-http` or `sse` and provide a reachable HTTPS URL.\n",
        "- Increment `version` whenever you publish a new release.\n",
        "\n",
        "Schema reference: https://registry.modelcontextprotocol.io/docs#/operations/publish-server (the `$schema` URL above is current as of this guide)."
      ]
    },
    {
      "cell_type": "markdown",
      "metadata": {},
      "source": [
        "### 3. Authentication (local)\n",
        "\n",
        "For this example, we’ll demonstrate authentication using **GitHub**.\n",
        "\n",
        "Run the following command to login to your local registry and follow instructions:"
      ]
    },
    {
      "cell_type": "code",
      "execution_count": 5,
      "metadata": {},
      "outputs": [
        {
          "name": "stdout",
          "output_type": "stream",
          "text": [
            "Logging in with github...\n",
            "\n",
            "To authenticate, please:\n",
            "1. Go to: https://github.com/login/device\n",
            "2. Enter code: EA1A-DCF3\n",
            "3. Authorize this application\n",
            "Waiting for authorization...\n",
            "Successfully authenticated!\n",
            "✓ Successfully logged in\n"
          ]
        }
      ],
      "source": [
        "!mcp-publisher login github --registry=\"$REGISTRY\""
      ]
    },
    {
      "cell_type": "markdown",
      "metadata": {},
      "source": [
        "> **Note:** Local registries often don’t require login, but this example shows the full flow.  \n",
        "\n",
        "> For the **official registry**, authentication is always required (see Option B below).\n"
      ]
    },
    {
      "cell_type": "markdown",
      "metadata": {},
      "source": [
        "### 4. Publish MCP Server\n",
        "\n",
        "Run the command below to publish your `server.json` to the registry:"
      ]
    },
    {
      "cell_type": "code",
      "execution_count": 6,
      "metadata": {},
      "outputs": [
        {
          "name": "stdout",
          "output_type": "stream",
          "text": [
            "Publishing to http://localhost:8080...\n",
            "✓ Successfully published\n"
          ]
        }
      ],
      "source": [
        "!mcp-publisher publish --registry=\"$REGISTRY\""
      ]
    },
    {
      "cell_type": "markdown",
      "metadata": {},
      "source": [
        "This will register your server entry in the registry so clients can discover it."
      ]
    },
    {
      "cell_type": "markdown",
      "metadata": {},
      "source": [
        "### 5. Search & capture the server ID"
      ]
    },
    {
      "cell_type": "code",
      "execution_count": 7,
      "metadata": {},
      "outputs": [
        {
          "name": "stdout",
          "output_type": "stream",
          "text": [
            "\u001b[1;39m{\n",
            "  \u001b[0m\u001b[1;34m\"servers\"\u001b[0m\u001b[1;39m: \u001b[0m\u001b[1;39m[\n",
            "    \u001b[1;39m{\n",
            "      \u001b[0m\u001b[1;34m\"$schema\"\u001b[0m\u001b[1;39m: \u001b[0m\u001b[0;32m\"https://static.modelcontextprotocol.io/schemas/2025-07-09/server.schema.json\"\u001b[0m\u001b[1;39m,\n",
            "      \u001b[0m\u001b[1;34m\"name\"\u001b[0m\u001b[1;39m: \u001b[0m\u001b[0;32m\"io.github.kevincogan/demo-mcp-server\"\u001b[0m\u001b[1;39m,\n",
            "      \u001b[0m\u001b[1;34m\"description\"\u001b[0m\u001b[1;39m: \u001b[0m\u001b[0;32m\"Demo server entry for local testing\"\u001b[0m\u001b[1;39m,\n",
            "      \u001b[0m\u001b[1;34m\"status\"\u001b[0m\u001b[1;39m: \u001b[0m\u001b[0;32m\"active\"\u001b[0m\u001b[1;39m,\n",
            "      \u001b[0m\u001b[1;34m\"repository\"\u001b[0m\u001b[1;39m: \u001b[0m\u001b[1;39m{\n",
            "        \u001b[0m\u001b[1;34m\"url\"\u001b[0m\u001b[1;39m: \u001b[0m\u001b[0;32m\"https://github.com/kevincogan/demo-mcp-server\"\u001b[0m\u001b[1;39m,\n",
            "        \u001b[0m\u001b[1;34m\"source\"\u001b[0m\u001b[1;39m: \u001b[0m\u001b[0;32m\"github\"\u001b[0m\u001b[1;39m\n",
            "      \u001b[1;39m}\u001b[0m\u001b[1;39m,\n",
            "      \u001b[0m\u001b[1;34m\"version\"\u001b[0m\u001b[1;39m: \u001b[0m\u001b[0;32m\"1.0.4\"\u001b[0m\u001b[1;39m,\n",
            "      \u001b[0m\u001b[1;34m\"remotes\"\u001b[0m\u001b[1;39m: \u001b[0m\u001b[1;39m[\n",
            "        \u001b[1;39m{\n",
            "          \u001b[0m\u001b[1;34m\"type\"\u001b[0m\u001b[1;39m: \u001b[0m\u001b[0;32m\"streamable-http\"\u001b[0m\u001b[1;39m,\n",
            "          \u001b[0m\u001b[1;34m\"url\"\u001b[0m\u001b[1;39m: \u001b[0m\u001b[0;32m\"https://kevincogan.github.io/mcp\"\u001b[0m\u001b[1;39m\n",
            "        \u001b[1;39m}\u001b[0m\u001b[1;39m\n",
            "      \u001b[1;39m]\u001b[0m\u001b[1;39m,\n",
            "      \u001b[0m\u001b[1;34m\"_meta\"\u001b[0m\u001b[1;39m: \u001b[0m\u001b[1;39m{\n",
            "        \u001b[0m\u001b[1;34m\"io.modelcontextprotocol.registry/official\"\u001b[0m\u001b[1;39m: \u001b[0m\u001b[1;39m{\n",
            "          \u001b[0m\u001b[1;34m\"id\"\u001b[0m\u001b[1;39m: \u001b[0m\u001b[0;32m\"4d97444b-9e51-4374-abcf-ec34f46439ca\"\u001b[0m\u001b[1;39m,\n",
            "          \u001b[0m\u001b[1;34m\"published_at\"\u001b[0m\u001b[1;39m: \u001b[0m\u001b[0;32m\"2025-09-22T13:15:05.331306252Z\"\u001b[0m\u001b[1;39m,\n",
            "          \u001b[0m\u001b[1;34m\"updated_at\"\u001b[0m\u001b[1;39m: \u001b[0m\u001b[0;32m\"2025-09-22T13:15:05.331306252Z\"\u001b[0m\u001b[1;39m,\n",
            "          \u001b[0m\u001b[1;34m\"is_latest\"\u001b[0m\u001b[1;39m: \u001b[0m\u001b[0;39mtrue\u001b[0m\u001b[1;39m\n",
            "        \u001b[1;39m}\u001b[0m\u001b[1;39m\n",
            "      \u001b[1;39m}\u001b[0m\u001b[1;39m\n",
            "    \u001b[1;39m}\u001b[0m\u001b[1;39m\n",
            "  \u001b[1;39m]\u001b[0m\u001b[1;39m,\n",
            "  \u001b[0m\u001b[1;34m\"metadata\"\u001b[0m\u001b[1;39m: \u001b[0m\u001b[1;39m{\n",
            "    \u001b[0m\u001b[1;34m\"count\"\u001b[0m\u001b[1;39m: \u001b[0m\u001b[0;39m1\u001b[0m\u001b[1;39m\n",
            "  \u001b[1;39m}\u001b[0m\u001b[1;39m\n",
            "\u001b[1;39m}\u001b[0m\n"
          ]
        }
      ],
      "source": [
        "# Find your entry\n",
        "!curl -s \"$REGISTRY/v0/servers?search=demo-mcp-server\" | jq '.'"
      ]
    },
    {
      "cell_type": "code",
      "execution_count": 8,
      "metadata": {},
      "outputs": [
        {
          "name": "stdout",
          "output_type": "stream",
          "text": [
            "4d97444b-9e51-4374-abcf-ec34f46439ca\n"
          ]
        }
      ],
      "source": [
        "# (Optional) grab the latest ID into a shell variable\n",
        "!curl -s \"$REGISTRY/v0/servers?search=demo-mcp-server&version=latest\" | jq -r '.servers[0]._meta[\"io.modelcontextprotocol.registry/official\"].id'"
      ]
    },
    {
      "cell_type": "markdown",
      "metadata": {},
      "source": [
        "The Registry supports `search`, `version=latest`, pagination, etc. (See more queries below.)"
      ]
    },
    {
      "cell_type": "markdown",
      "metadata": {},
      "source": [
        "### 6. Demo a new version & “latest” behavior\n",
        "\n",
        "Increment the version in `server.json` (manually or via the provided `jq` snippet), publish again, and show which version is latest.\n"
      ]
    },
    {
      "cell_type": "code",
      "execution_count": 9,
      "metadata": {},
      "outputs": [
        {
          "name": "stdout",
          "output_type": "stream",
          "text": [
            "Publishing to http://localhost:8080...\n",
            "✓ Successfully published\n"
          ]
        }
      ],
      "source": [
        "# Increment the version in server.json (example from 1.0.0 -> 1.0.1)\n",
        "# (use your editor to increment the version in the server.json”)\n",
        "!mcp-publisher publish --registry=\"$REGISTRY\""
      ]
    },
    {
      "cell_type": "code",
      "execution_count": 10,
      "metadata": {},
      "outputs": [
        {
          "name": "stdout",
          "output_type": "stream",
          "text": [
            "\u001b[1;39m{\n",
            "  \u001b[0m\u001b[1;34m\"servers\"\u001b[0m\u001b[1;39m: \u001b[0m\u001b[1;39m[\n",
            "    \u001b[1;39m{\n",
            "      \u001b[0m\u001b[1;34m\"$schema\"\u001b[0m\u001b[1;39m: \u001b[0m\u001b[0;32m\"https://static.modelcontextprotocol.io/schemas/2025-07-09/server.schema.json\"\u001b[0m\u001b[1;39m,\n",
            "      \u001b[0m\u001b[1;34m\"name\"\u001b[0m\u001b[1;39m: \u001b[0m\u001b[0;32m\"io.github.kevincogan/demo-mcp-server\"\u001b[0m\u001b[1;39m,\n",
            "      \u001b[0m\u001b[1;34m\"description\"\u001b[0m\u001b[1;39m: \u001b[0m\u001b[0;32m\"Demo server entry for local testing\"\u001b[0m\u001b[1;39m,\n",
            "      \u001b[0m\u001b[1;34m\"status\"\u001b[0m\u001b[1;39m: \u001b[0m\u001b[0;32m\"active\"\u001b[0m\u001b[1;39m,\n",
            "      \u001b[0m\u001b[1;34m\"repository\"\u001b[0m\u001b[1;39m: \u001b[0m\u001b[1;39m{\n",
            "        \u001b[0m\u001b[1;34m\"url\"\u001b[0m\u001b[1;39m: \u001b[0m\u001b[0;32m\"https://github.com/kevincogan/demo-mcp-server\"\u001b[0m\u001b[1;39m,\n",
            "        \u001b[0m\u001b[1;34m\"source\"\u001b[0m\u001b[1;39m: \u001b[0m\u001b[0;32m\"github\"\u001b[0m\u001b[1;39m\n",
            "      \u001b[1;39m}\u001b[0m\u001b[1;39m,\n",
            "      \u001b[0m\u001b[1;34m\"version\"\u001b[0m\u001b[1;39m: \u001b[0m\u001b[0;32m\"1.0.5\"\u001b[0m\u001b[1;39m,\n",
            "      \u001b[0m\u001b[1;34m\"remotes\"\u001b[0m\u001b[1;39m: \u001b[0m\u001b[1;39m[\n",
            "        \u001b[1;39m{\n",
            "          \u001b[0m\u001b[1;34m\"type\"\u001b[0m\u001b[1;39m: \u001b[0m\u001b[0;32m\"streamable-http\"\u001b[0m\u001b[1;39m,\n",
            "          \u001b[0m\u001b[1;34m\"url\"\u001b[0m\u001b[1;39m: \u001b[0m\u001b[0;32m\"https://kevincogan.github.io/mcp\"\u001b[0m\u001b[1;39m\n",
            "        \u001b[1;39m}\u001b[0m\u001b[1;39m\n",
            "      \u001b[1;39m]\u001b[0m\u001b[1;39m,\n",
            "      \u001b[0m\u001b[1;34m\"_meta\"\u001b[0m\u001b[1;39m: \u001b[0m\u001b[1;39m{\n",
            "        \u001b[0m\u001b[1;34m\"io.modelcontextprotocol.registry/official\"\u001b[0m\u001b[1;39m: \u001b[0m\u001b[1;39m{\n",
            "          \u001b[0m\u001b[1;34m\"id\"\u001b[0m\u001b[1;39m: \u001b[0m\u001b[0;32m\"1dfff46c-cb72-448e-9d18-61bb494737c1\"\u001b[0m\u001b[1;39m,\n",
            "          \u001b[0m\u001b[1;34m\"published_at\"\u001b[0m\u001b[1;39m: \u001b[0m\u001b[0;32m\"2025-09-22T13:15:43.288971089Z\"\u001b[0m\u001b[1;39m,\n",
            "          \u001b[0m\u001b[1;34m\"updated_at\"\u001b[0m\u001b[1;39m: \u001b[0m\u001b[0;32m\"2025-09-22T13:15:43.288971089Z\"\u001b[0m\u001b[1;39m,\n",
            "          \u001b[0m\u001b[1;34m\"is_latest\"\u001b[0m\u001b[1;39m: \u001b[0m\u001b[0;39mtrue\u001b[0m\u001b[1;39m\n",
            "        \u001b[1;39m}\u001b[0m\u001b[1;39m\n",
            "      \u001b[1;39m}\u001b[0m\u001b[1;39m\n",
            "    \u001b[1;39m}\u001b[0m\u001b[1;39m\n",
            "  \u001b[1;39m]\u001b[0m\u001b[1;39m,\n",
            "  \u001b[0m\u001b[1;34m\"metadata\"\u001b[0m\u001b[1;39m: \u001b[0m\u001b[1;39m{\n",
            "    \u001b[0m\u001b[1;34m\"count\"\u001b[0m\u001b[1;39m: \u001b[0m\u001b[0;39m1\u001b[0m\u001b[1;39m\n",
            "  \u001b[1;39m}\u001b[0m\u001b[1;39m\n",
            "\u001b[1;39m}\u001b[0m\n"
          ]
        }
      ],
      "source": [
        "# show only the latest version\n",
        "!curl -s \"$REGISTRY/v0/servers?search=demo-mcp-server&version=latest\" | jq '.'"
      ]
    },
    {
      "cell_type": "markdown",
      "metadata": {},
      "source": [
        "### 7. Cleanup\n",
        "\n",
        "Stops the Docker services and removes the local database directory.\n"
      ]
    },
    {
      "cell_type": "code",
      "execution_count": 11,
      "metadata": {},
      "outputs": [
        {
          "name": "stdout",
          "output_type": "stream",
          "text": [
            "\u001b[1A\u001b[1B\u001b[0G\u001b[?25l[+] Running 0/1\n",
            " \u001b[33m⠋\u001b[0m Container registry  Stopping                                            \u001b[34m0.1s \u001b[0m\n",
            "\u001b[?25h\u001b[1A\u001b[1A\u001b[0G\u001b[?25l\u001b[34m[+] Running 1/2\u001b[0m\n",
            " \u001b[32m✔\u001b[0m Container registry  \u001b[32mRemoved\u001b[0m                                             \u001b[34m0.1s \u001b[0m\n",
            " \u001b[33m⠋\u001b[0m Container postgres  Stopping                                            \u001b[34m0.0s \u001b[0m\n",
            "\u001b[?25h\u001b[1A\u001b[1A\u001b[1A\u001b[0G\u001b[?25l[+] Running 1/2\n",
            " \u001b[32m✔\u001b[0m Container registry  \u001b[32mRemoved\u001b[0m                                             \u001b[34m0.1s \u001b[0m\n",
            " \u001b[33m⠙\u001b[0m Container postgres  Stopping                                            \u001b[34m0.1s \u001b[0m\n",
            "\u001b[?25h\u001b[1A\u001b[1A\u001b[1A\u001b[0G\u001b[?25l\u001b[34m[+] Running 2/3\u001b[0m\n",
            " \u001b[32m✔\u001b[0m Container registry            \u001b[32mRemoved\u001b[0m                                   \u001b[34m0.1s \u001b[0m\n",
            " \u001b[32m✔\u001b[0m Container postgres            \u001b[32mRemoved\u001b[0m                                   \u001b[34m0.2s \u001b[0m\n",
            " \u001b[33m⠋\u001b[0m Network mcp_registry_default  Removin...                                \u001b[34m0.0s \u001b[0m\n",
            "\u001b[?25h\u001b[1A\u001b[1A\u001b[1A\u001b[1A\u001b[0G\u001b[?25l[+] Running 2/3\n",
            " \u001b[32m✔\u001b[0m Container registry            \u001b[32mRemoved\u001b[0m                                   \u001b[34m0.1s \u001b[0m\n",
            " \u001b[32m✔\u001b[0m Container postgres            \u001b[32mRemoved\u001b[0m                                   \u001b[34m0.2s \u001b[0m\n",
            " \u001b[33m⠙\u001b[0m Network mcp_registry_default  Removin...                                \u001b[34m0.1s \u001b[0m\n",
            "\u001b[?25h\u001b[1A\u001b[1A\u001b[1A\u001b[1A\u001b[0G\u001b[?25l\u001b[34m[+] Running 3/3\u001b[0m\n",
            " \u001b[32m✔\u001b[0m Container registry            \u001b[32mRemoved\u001b[0m                                   \u001b[34m0.1s \u001b[0m\n",
            " \u001b[32m✔\u001b[0m Container postgres            \u001b[32mRemoved\u001b[0m                                   \u001b[34m0.2s \u001b[0m\n",
            " \u001b[32m✔\u001b[0m Network mcp_registry_default  \u001b[32mRemoved\u001b[0m                                   \u001b[34m0.2s \u001b[0m\n",
            "\u001b[?25h"
          ]
        }
      ],
      "source": [
        "# docker compose\n",
        "!docker compose down"
      ]
    },
    {
      "cell_type": "code",
      "execution_count": 12,
      "metadata": {},
      "outputs": [],
      "source": [
        "# delete registry database\n",
        "!rm -rf .db  "
      ]
    },
    {
      "cell_type": "markdown",
      "metadata": {},
      "source": [
        "## Option B - Publish to the official registry\n",
        "\n",
        "Requires GitHub OAuth and a valid `server.json`.\n"
      ]
    },
    {
      "cell_type": "markdown",
      "metadata": {},
      "source": [
        "### 1. Install the publisher (if not already)\n",
        "\n",
        "Uses Homebrew to install `mcp-publisher` (same command as above).\n"
      ]
    },
    {
      "cell_type": "code",
      "execution_count": 132,
      "metadata": {},
      "outputs": [
        {
          "name": "stdout",
          "output_type": "stream",
          "text": [
            "\u001b[33mWarning:\u001b[0m mcp-publisher 1.0.0 is already installed and up-to-date.\n",
            "To reinstall 1.0.0, run:\n",
            "  brew reinstall mcp-publisher\n"
          ]
        }
      ],
      "source": [
        "!brew install mcp-publisher"
      ]
    },
    {
      "cell_type": "markdown",
      "metadata": {},
      "source": [
        "### 2. Authenticate (GitHub OAuth)\n",
        "\n",
        "Sets the official registry URL and authenticates with GitHub.\n"
      ]
    },
    {
      "cell_type": "code",
      "execution_count": 150,
      "metadata": {},
      "outputs": [],
      "source": [
        "# We will set REGISTRY once and reuse it.\n",
        "REGISTRY=\"https://registry.modelcontextprotocol.io\"\n",
        "\n",
        "# Set your GitHub username\n",
        "YOUR_GITHUB_USERNAME=\"kevincogan\""
      ]
    },
    {
      "cell_type": "code",
      "execution_count": 137,
      "metadata": {},
      "outputs": [
        {
          "name": "stdout",
          "output_type": "stream",
          "text": [
            "Logging in with github...\n",
            "\n",
            "To authenticate, please:\n",
            "1. Go to: https://github.com/login/device\n",
            "2. Enter code: A613-26B5\n",
            "3. Authorize this application\n",
            "Waiting for authorization...\n",
            "Successfully authenticated!\n",
            "✓ Successfully logged in\n"
          ]
        }
      ],
      "source": [
        "# Authentication via GitHub\n",
        "!mcp-publisher login github --registry=\"$REGISTRY\""
      ]
    },
    {
      "cell_type": "markdown",
      "metadata": {},
      "source": [
        "This opens a device-auth flow in your browser and stores a token locally."
      ]
    },
    {
      "cell_type": "markdown",
      "metadata": {},
      "source": [
        "### 3. Create and validate your `server.json` (skip Option A if you like)\n",
        "\n",
        "If you don't already have a `server.json`, create one now:"
      ]
    },
    {
      "cell_type": "code",
      "execution_count": 13,
      "metadata": {},
      "outputs": [
        {
          "name": "stdout",
          "output_type": "stream",
          "text": [
            "Created server.json\n",
            "\n",
            "Edit server.json to update:\n",
            "  • Server name and description\n",
            "  • Package details\n",
            "  • Environment variables\n",
            "\n",
            "Then publish with:\n",
            "  mcp-publisher login github  # or your preferred auth method\n",
            "  mcp-publisher publish\n"
          ]
        }
      ],
      "source": [
        "# Generate a starter file in the current directory\n",
        "!mcp-publisher init"
      ]
    },
    {
      "cell_type": "markdown",
      "metadata": {},
      "source": [
        "Or create it manually in the project root as `server.json` with at least these fields:\n",
        "\n",
        "**Example** `server.json`:\n",
        "```json\n",
        "{\n",
        "  \"$schema\": \"https://static.modelcontextprotocol.io/schemas/2025-07-09/server.schema.json\",\n",
        "  \"name\": \"io.github.<YOUR_GITHUB_USERNAME>/<your-server>\",\n",
        "  \"description\": \"Short description of what your MCP server does\",\n",
        "  \"status\": \"active\",\n",
        "  \"version\": \"1.0.0\",\n",
        "  \"repository\": { \"url\": \"https://github.com/<YOUR_GITHUB_USERNAME>/<your-repo>\", \"source\": \"github\" },\n",
        "  \"remotes\": [\n",
        "    { \"type\": \"streamable-http\", \"url\": \"https://<GITHUB_USERNAME>.github.io/mcp\" }\n",
        "  ]\n",
        "}\n",
        "```\n",
        "\n",
        "- Use a namespace you control for `name` (for GitHub, `io.github.<YOUR_GITHUB_USERNAME>/<your-server>`).\n",
        "- If you host a remote endpoint, set `remotes[].type` to `streamable-http` or `sse` and provide a reachable HTTPS URL.\n",
        "- Increment `version` whenever you publish a new release.\n",
        "\n",
        "Schema reference: https://registry.modelcontextprotocol.io/docs#/operations/publish-server (the `$schema` URL above is current as of this guide)."
      ]
    },
    {
      "cell_type": "markdown",
      "metadata": {},
      "source": [
        "### 4. Publish:\n",
        "\n",
        "Publishes to the official registry.\n"
      ]
    },
    {
      "cell_type": "code",
      "execution_count": 141,
      "metadata": {},
      "outputs": [
        {
          "name": "stdout",
          "output_type": "stream",
          "text": [
            "Publishing to https://registry.modelcontextprotocol.io...\n",
            "✓ Successfully published\n"
          ]
        }
      ],
      "source": [
        "!mcp-publisher publish --registry=\"$REGISTRY\"\n"
      ]
    },
    {
      "cell_type": "markdown",
      "metadata": {},
      "source": [
        "### 5. Verify via API\n",
        "\n",
        "Search the registry for your server (replace the search string to match your `name`).\n"
      ]
    },
    {
      "cell_type": "code",
      "execution_count": 151,
      "metadata": {},
      "outputs": [
        {
          "name": "stdout",
          "output_type": "stream",
          "text": [
            "\u001b[1;39m{\n",
            "  \u001b[0m\u001b[1;34m\"servers\"\u001b[0m\u001b[1;39m: \u001b[0m\u001b[1;39m[\n",
            "    \u001b[1;39m{\n",
            "      \u001b[0m\u001b[1;34m\"$schema\"\u001b[0m\u001b[1;39m: \u001b[0m\u001b[0;32m\"https://static.modelcontextprotocol.io/schemas/2025-07-09/server.schema.json\"\u001b[0m\u001b[1;39m,\n",
            "      \u001b[0m\u001b[1;34m\"name\"\u001b[0m\u001b[1;39m: \u001b[0m\u001b[0;32m\"io.github.kevincogan/demo-mcp-server\"\u001b[0m\u001b[1;39m,\n",
            "      \u001b[0m\u001b[1;34m\"description\"\u001b[0m\u001b[1;39m: \u001b[0m\u001b[0;32m\"Demo server entry for local testing\"\u001b[0m\u001b[1;39m,\n",
            "      \u001b[0m\u001b[1;34m\"status\"\u001b[0m\u001b[1;39m: \u001b[0m\u001b[0;32m\"active\"\u001b[0m\u001b[1;39m,\n",
            "      \u001b[0m\u001b[1;34m\"repository\"\u001b[0m\u001b[1;39m: \u001b[0m\u001b[1;39m{\n",
            "        \u001b[0m\u001b[1;34m\"url\"\u001b[0m\u001b[1;39m: \u001b[0m\u001b[0;32m\"https://github.com/kevincogan/demo-mcp-server\"\u001b[0m\u001b[1;39m,\n",
            "        \u001b[0m\u001b[1;34m\"source\"\u001b[0m\u001b[1;39m: \u001b[0m\u001b[0;32m\"github\"\u001b[0m\u001b[1;39m\n",
            "      \u001b[1;39m}\u001b[0m\u001b[1;39m,\n",
            "      \u001b[0m\u001b[1;34m\"version\"\u001b[0m\u001b[1;39m: \u001b[0m\u001b[0;32m\"1.0.4\"\u001b[0m\u001b[1;39m,\n",
            "      \u001b[0m\u001b[1;34m\"remotes\"\u001b[0m\u001b[1;39m: \u001b[0m\u001b[1;39m[\n",
            "        \u001b[1;39m{\n",
            "          \u001b[0m\u001b[1;34m\"type\"\u001b[0m\u001b[1;39m: \u001b[0m\u001b[0;32m\"streamable-http\"\u001b[0m\u001b[1;39m,\n",
            "          \u001b[0m\u001b[1;34m\"url\"\u001b[0m\u001b[1;39m: \u001b[0m\u001b[0;32m\"https://kevincogan.github.io/mcp\"\u001b[0m\u001b[1;39m\n",
            "        \u001b[1;39m}\u001b[0m\u001b[1;39m\n",
            "      \u001b[1;39m]\u001b[0m\u001b[1;39m,\n",
            "      \u001b[0m\u001b[1;34m\"_meta\"\u001b[0m\u001b[1;39m: \u001b[0m\u001b[1;39m{\n",
            "        \u001b[0m\u001b[1;34m\"io.modelcontextprotocol.registry/official\"\u001b[0m\u001b[1;39m: \u001b[0m\u001b[1;39m{\n",
            "          \u001b[0m\u001b[1;34m\"serverId\"\u001b[0m\u001b[1;39m: \u001b[0m\u001b[0;32m\"78162e28-0738-46be-b2ef-b1c6469a1616\"\u001b[0m\u001b[1;39m,\n",
            "          \u001b[0m\u001b[1;34m\"versionId\"\u001b[0m\u001b[1;39m: \u001b[0m\u001b[0;32m\"91c1fc9a-833b-4186-84f1-49b79c23f0c2\"\u001b[0m\u001b[1;39m,\n",
            "          \u001b[0m\u001b[1;34m\"publishedAt\"\u001b[0m\u001b[1;39m: \u001b[0m\u001b[0;32m\"2025-09-22T11:43:15.242712891Z\"\u001b[0m\u001b[1;39m,\n",
            "          \u001b[0m\u001b[1;34m\"updatedAt\"\u001b[0m\u001b[1;39m: \u001b[0m\u001b[0;32m\"2025-09-22T11:43:15.242712891Z\"\u001b[0m\u001b[1;39m,\n",
            "          \u001b[0m\u001b[1;34m\"isLatest\"\u001b[0m\u001b[1;39m: \u001b[0m\u001b[0;39mtrue\u001b[0m\u001b[1;39m\n",
            "        \u001b[1;39m}\u001b[0m\u001b[1;39m\n",
            "      \u001b[1;39m}\u001b[0m\u001b[1;39m\n",
            "    \u001b[1;39m}\u001b[0m\u001b[1;39m\n",
            "  \u001b[1;39m]\u001b[0m\u001b[1;39m,\n",
            "  \u001b[0m\u001b[1;34m\"metadata\"\u001b[0m\u001b[1;39m: \u001b[0m\u001b[1;39m{\n",
            "    \u001b[0m\u001b[1;34m\"count\"\u001b[0m\u001b[1;39m: \u001b[0m\u001b[0;39m1\u001b[0m\u001b[1;39m\n",
            "  \u001b[1;39m}\u001b[0m\u001b[1;39m\n",
            "\u001b[1;39m}\u001b[0m\n"
          ]
        }
      ],
      "source": [
        "!curl -s \"$REGISTRY/v0/servers?search=io.github.$YOUR_GITHUB_USERNAME/demo-mcp-server&version=latest\" | jq '.'"
      ]
    },
    {
      "cell_type": "markdown",
      "metadata": {},
      "source": [
        "Public API supports listing and fetching server details without auth."
      ]
    }
  ],
  "metadata": {
    "kernelspec": {
      "display_name": "Python 3",
      "language": "python",
      "name": "python3"
    },
    "language_info": {
      "codemirror_mode": {
        "name": "ipython",
        "version": 3
      },
      "file_extension": ".py",
      "mimetype": "text/x-python",
      "name": "python",
      "nbconvert_exporter": "python",
      "pygments_lexer": "ipython3",
      "version": "3.10.17"
    }
  },
  "nbformat": 4,
  "nbformat_minor": 2
}
